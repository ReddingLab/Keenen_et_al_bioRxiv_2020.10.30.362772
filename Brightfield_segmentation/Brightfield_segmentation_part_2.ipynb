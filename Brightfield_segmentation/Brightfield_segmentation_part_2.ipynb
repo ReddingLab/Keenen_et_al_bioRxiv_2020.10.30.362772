{
 "cells": [
  {
   "cell_type": "markdown",
   "metadata": {},
   "source": [
    "# Analysis of segmented HP1 phase droplets\n",
    "\n",
    "This notebook builds out our analysis method for the segmented bright field images of HP1$\\alpha$ droplets developed [here](path_to_part_1)."
   ]
  },
  {
   "cell_type": "code",
   "execution_count": 2,
   "metadata": {
    "jupyter": {
     "source_hidden": true
    }
   },
   "outputs": [],
   "source": [
    "import numpy as np\n",
    "import matplotlib.pyplot as plt\n",
    "from matplotlib.colors import LogNorm\n",
    "import matplotlib\n",
    "matplotlib.rcParams.update({'font.size': 20})\n",
    "\n",
    "from skimage.external.tifffile import imread, imsave\n",
    "from skimage.feature import canny\n",
    "from skimage.measure import regionprops,find_contours\n",
    "from skimage.draw import circle\n",
    "from skimage.morphology import watershed\n",
    "\n",
    "from scipy import ndimage as ndi\n",
    "from scipy import fftpack\n",
    "from scipy.ndimage.filters import convolve\n",
    "from scipy import integrate\n",
    "from scipy.ndimage import distance_transform_edt\n",
    "\n",
    "from smtools.point_fitting import find_maxima\n",
    "\n",
    "import random\n",
    "\n",
    "import os\n",
    "import time\n",
    "#-- this is here to suppress the warning about regionprops.coords\n",
    "#-- switching to r,c coords instead of x,y.\n",
    "import warnings\n",
    "warnings.filterwarnings(\"ignore\")\n",
    "\n",
    "def highpass_fft(Image,radius):\n",
    "    Image_fft = fftpack.fft2(Image)\n",
    "    Image_fft2 = Image_fft.copy()\n",
    "    row, col = Image_fft2.shape\n",
    "\n",
    "    #-- threshold value\n",
    "    radius = 150\n",
    "    for h in range(row):\n",
    "        val1 = np.sqrt(radius**2 - h**2)\n",
    "        val2 = np.sqrt(radius**2 - (h-row)**2)\n",
    "        if np.isnan(val1) and np.isnan(val2):\n",
    "            Image_fft2[h,:] = 0    \n",
    "        elif np.isnan(val2) and not np.isnan(val1):\n",
    "            Image_fft2[h,int(val1):col-int(val1)] = 0\n",
    "        elif np.isnan(val1) and not np.isnan(val2):\n",
    "            Image_fft2[h,int(val2):col-int(val2)] = 0\n",
    "    filtered_Image = fftpack.ifft2(Image_fft2).real\n",
    "    return(filtered_Image)\n",
    "\n",
    "def mk_bf_segments(Image, fft_thresh = 150, fft_cutoff = 7,\n",
    "                   sumrange = 11, thresh_ecc = 0.94, thresh_area = 100, \n",
    "                   thresh_ecc_small = .5, thresh_area_small = 10, \n",
    "                   thresh_diff = .1):\n",
    "\n",
    "    Image_new = highpass_fft(Image, fft_thresh)\n",
    "    mask = np.zeros_like(Image, dtype=bool)\n",
    "    for i in range(sumrange):\n",
    "        if i<=fft_cutoff:\n",
    "            edges = canny(Image, sigma=i)\n",
    "        else:\n",
    "            edges = canny(Image_new, sigma=i)\n",
    "        filled = ndi.binary_fill_holes(edges)\n",
    "        labels, _ = ndi.label(filled)\n",
    "        detect = np.zeros_like(Image)\n",
    "        \n",
    "        for j in regionprops(labels):\n",
    "            if j.eccentricity<thresh_ecc and j.area>thresh_area:\n",
    "                for y,x in j.coords:\n",
    "                    detect[y,x] = 1\n",
    "            elif (j.eccentricity<thresh_ecc_small and j.area>thresh_area_small\n",
    "                  and j.area<=thresh_area):\n",
    "                for y,x in j.coords:\n",
    "                    detect[y,x] = 1\n",
    "        mask = np.logical_or(mask, detect)\n",
    "        \n",
    "    #-- Watershed\n",
    "    mask_labels, _ = ndi.label(mask)\n",
    "    ws_mask = np.zeros_like(mask_labels)\n",
    "    bg_mask = np.zeros_like(mask_labels)\n",
    "    for i in regionprops(mask_labels):\n",
    "        rp = i.perimeter/(2*np.pi)\n",
    "        ra = np.sqrt(i.area/np.pi)\n",
    "        percent_diff = abs(rp-ra)*2/(rp+ra)\n",
    "        if percent_diff>thresh_diff and i.area>thresh_area:\n",
    "            for y,x in i.coords:\n",
    "                ws_mask[y,x] = 1\n",
    "        else:\n",
    "            for y,x in i.coords:\n",
    "                bg_mask[y,x] = 1\n",
    "\n",
    "    distance = distance_transform_edt(mask)\n",
    "    maxima = np.zeros_like(distance)        \n",
    "    for x,y in find_maxima(distance, 7, threshold_method = \"threshold_mean\"):\n",
    "        maxima[y,x] = 1\n",
    "    labels, _ = ndi.label(maxima) \n",
    "    labels_ws = watershed(-distance, labels, mask=ws_mask, \n",
    "                          watershed_line=True)\n",
    "    labels_bg, _ = ndi.label(bg_mask) \n",
    "    labeled_output = np.zeros_like(mask_labels)\n",
    "    label = 1\n",
    "    #filtering\n",
    "    for i in regionprops(labels_ws):\n",
    "        if i.area >1 and i.eccentricity<thresh_ecc_small:\n",
    "            for y,x in i.coords:\n",
    "                labeled_output[y,x] = label\n",
    "            label+=1\n",
    "    for i in regionprops(labels_bg):\n",
    "        for y,x in i.coords:\n",
    "            labeled_output[y,x] = label\n",
    "        label+=1\n",
    "    return labeled_output\n",
    "\n",
    "def bootstrapSurvival(lifetimes, stepsize = 1, \n",
    "                      CI = 0.5, samples = 200):\n",
    "    \n",
    "    bins = np.linspace(0,max(lifetimes)/stepsize,max(lifetimes)/stepsize)\n",
    "    n,_ = np.histogram(lifetimes, bins, normed=True)\n",
    "    measured_cdf = np.cumsum(n)\n",
    "    measured_cdf[:] = [1.0-x for x in measured_cdf]\n",
    "    \n",
    "    tmp_survival = []\n",
    "    for i in range(samples):\n",
    "        n,_ = np.histogram(np.random.choice(lifetimes, len(lifetimes)), \n",
    "                           bins, normed=True)\n",
    "        cdf = np.cumsum(n)\n",
    "        cdf[:] = [1.0-x for x in cdf]\n",
    "        tmp_survival.append(cdf)\n",
    "    \n",
    "    top_err, bot_err = [],[]   \n",
    "    for i in range(len(bins[:-1])):\n",
    "        data = [row[i] for row in tmp_survival]\n",
    "        data.sort()\n",
    "        top_err.append(data[int(CI*len(data))])\n",
    "        bot_err.append(data[int((1.-CI)*len(data))])\n",
    "        \n",
    "    return bins[:-1],measured_cdf, top_err, bot_err"
   ]
  },
  {
   "cell_type": "markdown",
   "metadata": {},
   "source": [
    "Much of the data reported in our publication uses the developed method for segmenting the brightfield images of HP1$\\alpha$ droplets. From there, we determine the expectation value of the radius of condnesates in the following way.\n",
    "\n",
    "* Segement the image\n",
    "* Determine the complementary cumulative radius distribution function, or the exceedance probability\n",
    "* Integrate the exceedence probability to determine the expectatino value.\n"
   ]
  },
  {
   "cell_type": "code",
   "execution_count": 3,
   "metadata": {
    "jupyter": {
     "source_hidden": true
    }
   },
   "outputs": [],
   "source": [
    "imlist = [imread(\"test_images/\"+i) for i in os.listdir(\"test_images/\")]\n",
    "\n",
    "radii = []\n",
    "for im in range(len(imlist)):\n",
    "    im_seg = mk_bf_segments(imlist[im])\n",
    "    labels, _ = ndi.label(im_seg) \n",
    "    for label in regionprops(labels):\n",
    "        radii.append(label.equivalent_diameter/2.)\n"
   ]
  },
  {
   "cell_type": "code",
   "execution_count": 4,
   "metadata": {
    "jupyter": {
     "source_hidden": true
    }
   },
   "outputs": [
    {
     "data": {
      "image/png": "[encoded data removed]",
      "text/plain": [
       "<Figure size 720x360 with 1 Axes>"
      ]
     },
     "metadata": {
      "needs_background": "light"
     },
     "output_type": "display_data"
    }
   ],
   "source": [
    "fig = plt.figure(figsize=(10,5))\n",
    "\n",
    "ax1 = fig.add_subplot(111)\n",
    "ax1.set_title(r\"PDF of Radii,  $\\langle A \\rangle = $\"+\"{:.2f}\".format(np.mean(radii)), fontsize = 20)\n",
    "ax1.hist(radii, 50, log=True, ec = \"k\", fc = \"#008fd5\")\n",
    "\n",
    "\n",
    "plt.show()"
   ]
  },
  {
   "cell_type": "markdown",
   "metadata": {},
   "source": [
    "From this distribution we determine the exceedance probability function, because it a more robust statistic. Below is an animation of how this distribution is determined.\n"
   ]
  },
  {
   "cell_type": "markdown",
   "metadata": {},
   "source": [
    "![](Combined_plots_small.gif)"
   ]
  },
  {
   "cell_type": "markdown",
   "metadata": {},
   "source": [
    "To estimate the variance on our determination of the exceedance, we use a bootstrap method to calculate confidence intervals. In the plot below 95% intervals are shown. Finally, the integral of this curve returns the expectation value of the radius, which is the critical value we report in several places within the associated manuscript.\n"
   ]
  },
  {
   "cell_type": "code",
   "execution_count": 6,
   "metadata": {
    "jupyter": {
     "source_hidden": true
    }
   },
   "outputs": [
    {
     "data": {
      "image/png": "[encoded data removed]",
      "text/plain": [
       "<Figure size 720x432 with 1 Axes>"
      ]
     },
     "metadata": {
      "needs_background": "light"
     },
     "output_type": "display_data"
    },
    {
     "name": "stdout",
     "output_type": "stream",
     "text": [
      "The expectation value of the exceedance probability is:    9.699888327142283\n"
     ]
    }
   ],
   "source": [
    "import random\n",
    "\n",
    "fig = plt.figure(figsize=(10,6))\n",
    "\n",
    "ax1 = fig.add_subplot(111)\n",
    "x,y,ery_t,ery_b = bootstrapSurvival(radii, samples=200, CI = 0.025)\n",
    "ax1.semilogy(x,y, linewidth = 5, color = \"#008fd5\")\n",
    "ax1.fill_between(x,ery_t, ery_b, alpha = .2, color = \"#008fd5\")\n",
    "\n",
    "ax1.set_xlim(1)\n",
    "ax1.set_title(\"Exceedance Probability\")\n",
    "ax1.set_xlabel(\"radius\")\n",
    "ax1.set_ylabel(\"Exceedance Probability\")\n",
    "plt.show()\n",
    "\n",
    "print(\"The expectation value of the exceedance probability is:   \",integrate.simps(y,x))"
   ]
  },
  {
   "cell_type": "code",
   "execution_count": null,
   "metadata": {},
   "outputs": [],
   "source": []
  },
  {
   "cell_type": "code",
   "execution_count": null,
   "metadata": {},
   "outputs": [],
   "source": []
  }
 ],
 "metadata": {
  "kernelspec": {
   "display_name": "Python 3",
   "language": "python",
   "name": "python3"
  },
  "language_info": {
   "codemirror_mode": {
    "name": "ipython",
    "version": 3
   },
   "file_extension": ".py",
   "mimetype": "text/x-python",
   "name": "python",
   "nbconvert_exporter": "python",
   "pygments_lexer": "ipython3",
   "version": "3.7.4"
  }
 },
 "nbformat": 4,
 "nbformat_minor": 4
}
